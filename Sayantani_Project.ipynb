{
  "nbformat": 4,
  "nbformat_minor": 0,
  "metadata": {
    "colab": {
      "provenance": []
    },
    "kernelspec": {
      "name": "python3",
      "display_name": "Python 3"
    },
    "language_info": {
      "name": "python"
    }
  },
  "cells": [
    {
      "cell_type": "code",
      "execution_count": 2,
      "metadata": {
        "colab": {
          "base_uri": "https://localhost:8080/"
        },
        "id": "QlxZUPYcYBB6",
        "outputId": "0e8d01ae-4ab2-4243-81c2-f6411282c3ca"
      },
      "outputs": [
        {
          "output_type": "stream",
          "name": "stdout",
          "text": [
            "44.72\n",
            "44.20\n",
            "51.00\n",
            "44.13\n",
            "67.49\n",
            "41.06\n"
          ]
        }
      ],
      "source": [
        "import requests\n",
        "from bs4 import BeautifulSoup\n",
        "import pandas as pd\n",
        "import numpy as np\n",
        "import matplotlib.pyplot as plt\n",
        "import math\n",
        "\n",
        "link1 = 'https://finance.yahoo.com/quote/TNDM'\n",
        "Res1 = requests.get(link1)\n",
        "soup = BeautifulSoup(Res1.text, 'lxml')\n",
        "TN = soup.find('div', class_='container svelte-aay0dk').find('span').text\n",
        "print(TN)\n",
        "link2 = 'https://finance.yahoo.com/quote/NXT'\n",
        "Res2 = requests.get(link2)\n",
        "soup = BeautifulSoup(Res2.text, 'lxml')\n",
        "NX = soup.find('div', class_='container svelte-aay0dk').find('span').text\n",
        "print(NX)\n",
        "\n",
        "link3 = 'https://finance.yahoo.com/quote/EXAS'\n",
        "Res3 = requests.get(link3)\n",
        "soup = BeautifulSoup(Res3.text, 'lxml')\n",
        "EX = soup.find('div', class_='container svelte-aay0dk').find('span').text\n",
        "print(EX)\n",
        "link4 = 'https://finance.yahoo.com/quote/AA'\n",
        "Res4 = requests.get(link4)\n",
        "soup = BeautifulSoup(Res4.text, 'lxml')\n",
        "AA = soup.find('div', class_='container svelte-aay0dk').find('span').text\n",
        "print(AA)\n",
        "\n",
        "link5 = 'https://finance.yahoo.com/quote/ITCI'\n",
        "Res5 = requests.get(link5)\n",
        "soup = BeautifulSoup(Res5.text, 'lxml')\n",
        "IT = soup.find('div', class_='container svelte-aay0dk').find('span').text\n",
        "print(IT)\n",
        "link6 = 'https://finance.yahoo.com/quote/SU'\n",
        "Res6 = requests.get(link6)\n",
        "soup = BeautifulSoup(Res6.text, 'lxml')\n",
        "SU = soup.find('div', class_='container svelte-aay0dk').find('span').text\n",
        "print(SU)\n"
      ]
    },
    {
      "cell_type": "code",
      "source": [
        "df = [['Tandem Diabetes Care, Inc.', TN], ['Nextracker Inc.', NX], ['Exact Sciences Corporation', EX], ['Alcoa Corporation', AA], ['Intra-Cellular Therapies, Inc.', IT], ['Suncor Energy Inc.', SU]]\n",
        "df1 = pd.DataFrame(df, columns=['Name', 'Price'], index=[1,2,3,4,5,6])\n",
        "print(df1)"
      ],
      "metadata": {
        "colab": {
          "base_uri": "https://localhost:8080/"
        },
        "id": "b-M9jJqpfoTe",
        "outputId": "273bb9af-11a5-45ce-be5f-95849f4a1f4a"
      },
      "execution_count": 3,
      "outputs": [
        {
          "output_type": "stream",
          "name": "stdout",
          "text": [
            "                             Name  Price\n",
            "1      Tandem Diabetes Care, Inc.  44.72\n",
            "2                 Nextracker Inc.  44.20\n",
            "3      Exact Sciences Corporation  51.00\n",
            "4               Alcoa Corporation  44.13\n",
            "5  Intra-Cellular Therapies, Inc.  67.49\n",
            "6              Suncor Energy Inc.  41.06\n"
          ]
        }
      ]
    },
    {
      "cell_type": "code",
      "source": [
        "df1['Price'].describe()"
      ],
      "metadata": {
        "colab": {
          "base_uri": "https://localhost:8080/"
        },
        "id": "Ac5pS0T2f2iB",
        "outputId": "891c2f9b-f4bc-4eab-a82f-cf4d57c00d0a"
      },
      "execution_count": 4,
      "outputs": [
        {
          "output_type": "execute_result",
          "data": {
            "text/plain": [
              "count         6\n",
              "unique        6\n",
              "top       44.72\n",
              "freq          1\n",
              "Name: Price, dtype: object"
            ]
          },
          "metadata": {},
          "execution_count": 4
        }
      ]
    },
    {
      "cell_type": "code",
      "source": [
        "df1.to_csv('StockPrice', sep=',', index=False, encoding='utf-8')"
      ],
      "metadata": {
        "id": "8xZ4VB9lgawU"
      },
      "execution_count": 6,
      "outputs": []
    },
    {
      "cell_type": "code",
      "source": [
        "df1.to_csv('StockPrice', sep=',', index=False, encoding='utf-8')\n",
        "# Convert the Price column to a numeric type\n",
        "df1['Price'] = df1['Price'].apply(lambda x: float(x.replace(',', '')))\n",
        "\n",
        "# Recalculate the mean of the Price column\n",
        "df1['Price'].mean()"
      ],
      "metadata": {
        "colab": {
          "base_uri": "https://localhost:8080/"
        },
        "id": "Yil8ShozgrdP",
        "outputId": "c7d09809-f514-400f-bf85-7f22bd5bbb4a"
      },
      "execution_count": 7,
      "outputs": [
        {
          "output_type": "execute_result",
          "data": {
            "text/plain": [
              "48.76666666666667"
            ]
          },
          "metadata": {},
          "execution_count": 7
        }
      ]
    },
    {
      "cell_type": "code",
      "source": [
        "sd = math.sqrt(df1['Price'].var())\n",
        "print(sd)"
      ],
      "metadata": {
        "colab": {
          "base_uri": "https://localhost:8080/"
        },
        "id": "3oAflXJIhTbd",
        "outputId": "053e2c74-b37d-44e6-e580-ac60b4d6e3e6"
      },
      "execution_count": 8,
      "outputs": [
        {
          "output_type": "stream",
          "name": "stdout",
          "text": [
            "9.733163240522918\n"
          ]
        }
      ]
    },
    {
      "cell_type": "code",
      "source": [
        "plt.bar(df1['Name'], df1['Price'])\n",
        "plt.xticks(rotation=90)"
      ],
      "metadata": {
        "colab": {
          "base_uri": "https://localhost:8080/",
          "height": 735
        },
        "id": "VoLHfUoZhvFy",
        "outputId": "3ca2d3df-07a9-4058-df4d-91e41f42f868"
      },
      "execution_count": 9,
      "outputs": [
        {
          "output_type": "execute_result",
          "data": {
            "text/plain": [
              "([0, 1, 2, 3, 4, 5],\n",
              " [Text(0, 0, 'Tandem Diabetes Care, Inc.'),\n",
              "  Text(1, 0, 'Nextracker Inc.'),\n",
              "  Text(2, 0, 'Exact Sciences Corporation'),\n",
              "  Text(3, 0, 'Alcoa Corporation'),\n",
              "  Text(4, 0, 'Intra-Cellular Therapies, Inc.'),\n",
              "  Text(5, 0, 'Suncor Energy Inc.')])"
            ]
          },
          "metadata": {},
          "execution_count": 9
        },
        {
          "output_type": "display_data",
          "data": {
            "text/plain": [
              "<Figure size 640x480 with 1 Axes>"
            ],
            "image/png": "[encoded data removed]"
          },
          "metadata": {}
        }
      ]
    }
  ]
}